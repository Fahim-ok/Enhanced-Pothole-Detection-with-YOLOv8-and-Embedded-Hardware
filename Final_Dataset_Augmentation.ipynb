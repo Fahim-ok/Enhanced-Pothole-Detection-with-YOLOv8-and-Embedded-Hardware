{
  "nbformat": 4,
  "nbformat_minor": 0,
  "metadata": {
    "colab": {
      "provenance": []
    },
    "kernelspec": {
      "name": "python3",
      "display_name": "Python 3"
    },
    "language_info": {
      "name": "python"
    }
  },
  "cells": [
    {
      "cell_type": "code",
      "source": [
        "from google.colab import drive\n",
        "drive.mount('/content/drive')"
      ],
      "metadata": {
        "colab": {
          "base_uri": "https://localhost:8080/"
        },
        "id": "wGc7RFcGFY2y",
        "outputId": "4d985df9-b97a-4ac4-d012-375ec51e900f"
      },
      "execution_count": null,
      "outputs": [
        {
          "output_type": "stream",
          "name": "stdout",
          "text": [
            "Mounted at /content/drive\n"
          ]
        }
      ]
    },
    {
      "cell_type": "code",
      "execution_count": null,
      "metadata": {
        "colab": {
          "base_uri": "https://localhost:8080/"
        },
        "id": "jGfmkrs8_1s7",
        "outputId": "81019f2c-db17-4c0e-b95a-186dcec85e41"
      },
      "outputs": [
        {
          "output_type": "stream",
          "name": "stdout",
          "text": [
            "Requirement already satisfied: imgaug in /usr/local/lib/python3.10/dist-packages (0.4.0)\n",
            "Requirement already satisfied: six in /usr/local/lib/python3.10/dist-packages (from imgaug) (1.16.0)\n",
            "Requirement already satisfied: numpy>=1.15 in /usr/local/lib/python3.10/dist-packages (from imgaug) (1.23.5)\n",
            "Requirement already satisfied: scipy in /usr/local/lib/python3.10/dist-packages (from imgaug) (1.11.4)\n",
            "Requirement already satisfied: Pillow in /usr/local/lib/python3.10/dist-packages (from imgaug) (9.4.0)\n",
            "Requirement already satisfied: matplotlib in /usr/local/lib/python3.10/dist-packages (from imgaug) (3.7.1)\n",
            "Requirement already satisfied: scikit-image>=0.14.2 in /usr/local/lib/python3.10/dist-packages (from imgaug) (0.19.3)\n",
            "Requirement already satisfied: opencv-python in /usr/local/lib/python3.10/dist-packages (from imgaug) (4.8.0.76)\n",
            "Requirement already satisfied: imageio in /usr/local/lib/python3.10/dist-packages (from imgaug) (2.31.6)\n",
            "Requirement already satisfied: Shapely in /usr/local/lib/python3.10/dist-packages (from imgaug) (2.0.2)\n",
            "Requirement already satisfied: networkx>=2.2 in /usr/local/lib/python3.10/dist-packages (from scikit-image>=0.14.2->imgaug) (3.2.1)\n",
            "Requirement already satisfied: tifffile>=2019.7.26 in /usr/local/lib/python3.10/dist-packages (from scikit-image>=0.14.2->imgaug) (2023.12.9)\n",
            "Requirement already satisfied: PyWavelets>=1.1.1 in /usr/local/lib/python3.10/dist-packages (from scikit-image>=0.14.2->imgaug) (1.5.0)\n",
            "Requirement already satisfied: packaging>=20.0 in /usr/local/lib/python3.10/dist-packages (from scikit-image>=0.14.2->imgaug) (23.2)\n",
            "Requirement already satisfied: contourpy>=1.0.1 in /usr/local/lib/python3.10/dist-packages (from matplotlib->imgaug) (1.2.0)\n",
            "Requirement already satisfied: cycler>=0.10 in /usr/local/lib/python3.10/dist-packages (from matplotlib->imgaug) (0.12.1)\n",
            "Requirement already satisfied: fonttools>=4.22.0 in /usr/local/lib/python3.10/dist-packages (from matplotlib->imgaug) (4.46.0)\n",
            "Requirement already satisfied: kiwisolver>=1.0.1 in /usr/local/lib/python3.10/dist-packages (from matplotlib->imgaug) (1.4.5)\n",
            "Requirement already satisfied: pyparsing>=2.3.1 in /usr/local/lib/python3.10/dist-packages (from matplotlib->imgaug) (3.1.1)\n",
            "Requirement already satisfied: python-dateutil>=2.7 in /usr/local/lib/python3.10/dist-packages (from matplotlib->imgaug) (2.8.2)\n"
          ]
        }
      ],
      "source": [
        "pip install imgaug\n"
      ]
    },
    {
      "cell_type": "code",
      "source": [
        "# import os\n",
        "# import imgaug.augmenters as iaa\n",
        "# import shutil\n",
        "# from PIL import Image\n",
        "# import numpy as np\n",
        "\n",
        "# # Paths\n",
        "# dataset_path = '/content/drive/MyDrive/Data Pre-Processing/Speed Bump Before Augmentation/Images_Speed Bump'\n",
        "# labels_path = '/content/drive/MyDrive/Data Pre-Processing/Speed Bump Before Augmentation/Labels_Speed Bump'\n",
        "# target_path = '/content/drive/MyDrive/Data Pre-Processing/Augmented Dataset/Speed Bump/Images'\n",
        "# target_label_path = '/content/drive/MyDrive/Data Pre-Processing/Augmented Dataset/Speed Bump/Images'\n",
        "# target_class = 'Speed Bump'\n",
        "\n",
        "# # Create target folders if they don't exist\n",
        "# if not os.path.exists(target_path):\n",
        "#     os.makedirs(target_path)\n",
        "\n",
        "# if not os.path.exists(target_label_path):\n",
        "#     os.makedirs(target_label_path)\n",
        "\n",
        "# # List all image files in the dataset folder\n",
        "# image_files = [f for f in os.listdir(dataset_path) if os.path.isfile(os.path.join(dataset_path, f))]\n",
        "\n",
        "# # Augmentation sequence\n",
        "# seq = iaa.Sequential([\n",
        "#     iaa.Multiply((0.5, 1.5)),  # Brightness Jittering\n",
        "#     iaa.LinearContrast((0.5, 1.5)),  # Contrast Adjustment\n",
        "#     iaa.GaussianBlur(sigma=(0.0, 3.0)),  # Blur\n",
        "#     iaa.AdditiveGaussianNoise(scale=(0.0, 0.05 * 255)),  # Noise Injection\n",
        "#     #iaa.ChangeColorspace(from_colorspace=\"RGB\", to_colorspace=\"HSV\"),  # Color Space Transformation\n",
        "#     iaa.WithChannels(0, iaa.Add((-50, 50))),  # Hue Adjustment\n",
        "#     iaa.WithChannels(1, iaa.Multiply((0.5, 1.5))),  # Saturation Adjustment\n",
        "#     iaa.WithChannels(2, iaa.LinearContrast((0.5, 1.5))),  # Value (Brightness) Adjustment\n",
        "#     iaa.Sharpen(alpha=(0, 1.0), lightness=(0.75, 1.5)),  # Sharpness Adjustment\n",
        "#     iaa.Cutout(nb_iterations=(0, 5), size=0.2),  # Cutout\n",
        "#     iaa.Sometimes(0.5, iaa.CoarseDropout((0.0, 0.2), size_percent=(0.02, 0.1), per_channel=0.5)),  # Random Erasing\n",
        "# ])\n",
        "\n",
        "# # Loop through each image and generate augmented versions\n",
        "# for img_filename in image_files:\n",
        "#     img_path = os.path.join(dataset_path, img_filename)\n",
        "#     label_filename = os.path.splitext(img_filename)[0] + '.txt'\n",
        "#     label_path = os.path.join(labels_path, label_filename)\n",
        "\n",
        "#     # Load the image\n",
        "#     img = Image.open(img_path)\n",
        "#     img_array = np.array(img)\n",
        "\n",
        "#     # Generate augmented images\n",
        "#     images_aug = [seq.augment_image(img_array) for _ in range(5)]\n",
        "\n",
        "#     # Save augmented images\n",
        "#     for i, augmented_img in enumerate(images_aug):\n",
        "#         filename = f\"{target_class}_{i}_augmented_speed_bumps_{img_filename}\"\n",
        "#         target_img_path = os.path.join(target_path, filename)\n",
        "#         Image.fromarray(augmented_img).save(target_img_path)\n",
        "\n",
        "#         # Move the corresponding annotation file to the target label folder\n",
        "#         target_label_filename = f\"{target_class}_{i}_augmented_speed_bumps_{label_filename}\"\n",
        "#         target_label_path_file = os.path.join(target_label_path, target_label_filename)\n",
        "#         shutil.copy(label_path, target_label_path_file)\n",
        "\n",
        "# print(f\"Augmented images saved in: {target_path}\")\n",
        "# print(f\"Augmented labels moved to: {target_label_path}\")\n"
      ],
      "metadata": {
        "colab": {
          "base_uri": "https://localhost:8080/"
        },
        "id": "UA2q1GTSFXJU",
        "outputId": "9ea66b6b-8cd1-404a-c6ef-e1d086fbc37b"
      },
      "execution_count": null,
      "outputs": [
        {
          "output_type": "stream",
          "name": "stdout",
          "text": [
            "Augmented images saved in: /content/drive/MyDrive/Final Dataset/Augmented Speed Bumps\n",
            "Augmented labels moved to: /content/drive/MyDrive/Final Dataset/AugmentedLabels_SpeedBumps\n"
          ]
        }
      ]
    },
    {
      "cell_type": "code",
      "source": [
        "import os\n",
        "import imgaug.augmenters as iaa\n",
        "import shutil\n",
        "from PIL import Image\n",
        "import numpy as np\n",
        "\n",
        "# Paths\n",
        "dataset_path = '/content/drive/MyDrive/Data Pre-Processing/Speed Bump Before Augmentation/Images_Speed Bump'\n",
        "labels_path = '/content/drive/MyDrive/Data Pre-Processing/Speed Bump Before Augmentation/Labels_Speed Bump'\n",
        "target_path = '/content/drive/MyDrive/Data Pre-Processing/Augmented Dataset/Speed Bump/Images'\n",
        "target_label_path = '/content/drive/MyDrive/Data Pre-Processing/Augmented Dataset/Speed Bump/Labels'\n",
        "target_class = 'Speed Bump'\n",
        "\n",
        "# Create target folders if they don't exist\n",
        "if not os.path.exists(target_path):\n",
        "    os.makedirs(target_path)\n",
        "\n",
        "if not os.path.exists(target_label_path):\n",
        "    os.makedirs(target_label_path)\n",
        "\n",
        "# List all image files in the dataset folder\n",
        "image_files = [f for f in os.listdir(dataset_path) if os.path.isfile(os.path.join(dataset_path, f))]\n",
        "\n",
        "# Augmentation sequence\n",
        "seq = iaa.Sequential([\n",
        "    iaa.Multiply((0.5, 1.5)),  # Brightness Jittering\n",
        "    iaa.LinearContrast((0.5, 1.5)),  # Contrast Adjustment\n",
        "    iaa.GaussianBlur(sigma=(0.0, 3.0)),  # Blur\n",
        "    iaa.AdditiveGaussianNoise(scale=(0.0, 0.05 * 255)),  # Noise Injection\n",
        "    iaa.WithChannels(0, iaa.Add((-50, 50))),  # Hue Adjustment\n",
        "    iaa.WithChannels(1, iaa.Multiply((0.5, 1.5))),  # Saturation Adjustment\n",
        "    iaa.WithChannels(2, iaa.LinearContrast((0.5, 1.5))),  # Value (Brightness) Adjustment\n",
        "    iaa.Sharpen(alpha=(0, 1.0), lightness=(0.75, 1.5)),  # Sharpness Adjustment\n",
        "    iaa.Cutout(nb_iterations=(0, 5), size=0.2),  # Cutout\n",
        "    iaa.Sometimes(0.5, iaa.CoarseDropout((0.0, 0.2), size_percent=(0.02, 0.1), per_channel=0.5)),  # Random Erasing\n",
        "])\n",
        "\n",
        "# Loop through each image and generate augmented versions\n",
        "for img_filename in image_files:\n",
        "    img_path = os.path.join(dataset_path, img_filename)\n",
        "    label_filename = os.path.splitext(img_filename)[0] + '.txt'\n",
        "    label_path = os.path.join(labels_path, label_filename)\n",
        "\n",
        "    # Load the image\n",
        "    img = Image.open(img_path)\n",
        "    img_array = np.array(img)\n",
        "\n",
        "    # Generate augmented images\n",
        "    images_aug = [seq.augment_image(img_array) for _ in range(3)]\n",
        "\n",
        "    # Save source image\n",
        "    source_img_filename = f\"{target_class}_source_{img_filename}\"\n",
        "    source_img_path = os.path.join(target_path, source_img_filename)\n",
        "    img.save(source_img_path)\n",
        "\n",
        "    # Save augmented images\n",
        "    for i, augmented_img in enumerate(images_aug):\n",
        "        augmented_filename = f\"{target_class}_{i}_augmented_{img_filename}\"\n",
        "        target_img_path = os.path.join(target_path, augmented_filename)\n",
        "        Image.fromarray(augmented_img).save(target_img_path)\n",
        "\n",
        "        # Move the corresponding annotation file to the target label folder\n",
        "        target_label_filename = f\"{target_class}_{i}_augmented_{label_filename}\"\n",
        "        target_label_path_file = os.path.join(target_label_path, target_label_filename)\n",
        "        shutil.copy(label_path, target_label_path_file)\n",
        "\n",
        "    # Copy source label to the target label folder\n",
        "    source_label_filename = f\"{target_class}_source_{label_filename}\"\n",
        "    target_source_label_path = os.path.join(target_label_path, source_label_filename)\n",
        "    shutil.copy(label_path, target_source_label_path)\n",
        "\n",
        "print(f\"Augmented images saved in: {target_path}\")\n",
        "print(f\"Augmented labels moved to: {target_label_path}\")\n"
      ],
      "metadata": {
        "colab": {
          "base_uri": "https://localhost:8080/"
        },
        "id": "gWqnt6Cy5yp8",
        "outputId": "26533fa5-f26c-4150-8356-451c10e5e5a9"
      },
      "execution_count": null,
      "outputs": [
        {
          "output_type": "stream",
          "name": "stdout",
          "text": [
            "Augmented images saved in: /content/drive/MyDrive/Data Pre-Processing/Augmented Dataset/Speed Bump/Images\n",
            "Augmented labels moved to: /content/drive/MyDrive/Data Pre-Processing/Augmented Dataset/Speed Bump/Labels\n"
          ]
        }
      ]
    },
    {
      "cell_type": "code",
      "source": [
        "import os\n",
        "\n",
        "def count_files_in_folder(folder_path):\n",
        "    # Check if the folder exists\n",
        "    if not os.path.exists(folder_path):\n",
        "        print(f\"The folder '{folder_path}' does not exist.\")\n",
        "        return\n",
        "\n",
        "    # Get the count of files in the folder\n",
        "    file_count = len([f for f in os.listdir(folder_path) if os.path.isfile(os.path.join(folder_path, f))])\n",
        "\n",
        "    # Print the count\n",
        "    print(f\"Number of files in '{folder_path}': {file_count}\")\n",
        "\n",
        "# Replace 'your_folder_path' with the actual path to your folder\n",
        "folder_path = \"/content/drive/MyDrive/Data Pre-Processing/Augmented Dataset/Speed Bump/Images\"\n",
        "folder_path1 = \"/content/drive/MyDrive/Data Pre-Processing/Augmented Dataset/Speed Bump/Labels\"\n",
        "count_files_in_folder(folder_path)\n",
        "count_files_in_folder(folder_path1)"
      ],
      "metadata": {
        "colab": {
          "base_uri": "https://localhost:8080/"
        },
        "id": "sH_e0ofNCLtz",
        "outputId": "18ebe946-3071-4031-f537-f2932dddc5b4"
      },
      "execution_count": null,
      "outputs": [
        {
          "output_type": "stream",
          "name": "stdout",
          "text": [
            "Number of files in '/content/drive/MyDrive/Data Pre-Processing/Augmented Dataset/Speed Bump/Images': 2436\n",
            "Number of files in '/content/drive/MyDrive/Data Pre-Processing/Augmented Dataset/Speed Bump/Labels': 2436\n"
          ]
        }
      ]
    },
    {
      "cell_type": "code",
      "source": [
        "import os\n",
        "import imgaug.augmenters as iaa\n",
        "import shutil\n",
        "from PIL import Image\n",
        "import numpy as np\n",
        "\n",
        "# Paths\n",
        "dataset_path = '/content/drive/MyDrive/Data Pre-Processing/Pothole Before Augmentation/Images_Pothole'\n",
        "labels_path = '/content/drive/MyDrive/Data Pre-Processing/Pothole Before Augmentation/Labels_Pothole'\n",
        "target_path = '/content/drive/MyDrive/Data Pre-Processing/Augmented Dataset/Pothole/Images'\n",
        "target_label_path = '/content/drive/MyDrive/Data Pre-Processing/Augmented Dataset/Pothole/Labels'\n",
        "target_class = 'Pothole'\n",
        "\n",
        "# Create target folders if they don't exist\n",
        "if not os.path.exists(target_path):\n",
        "    os.makedirs(target_path)\n",
        "\n",
        "if not os.path.exists(target_label_path):\n",
        "    os.makedirs(target_label_path)\n",
        "\n",
        "# List all image files in the dataset folder\n",
        "image_files = [f for f in os.listdir(dataset_path) if os.path.isfile(os.path.join(dataset_path, f))]\n",
        "\n",
        "# Augmentation sequence\n",
        "seq = iaa.Sequential([\n",
        "    iaa.Multiply((0.5, 1.5)),  # Brightness Jittering\n",
        "    iaa.LinearContrast((0.5, 1.5)),  # Contrast Adjustment\n",
        "    iaa.GaussianBlur(sigma=(0.0, 3.0)),  # Blur\n",
        "    iaa.AdditiveGaussianNoise(scale=(0.0, 0.05 * 255)),  # Noise Injection\n",
        "    iaa.WithChannels(0, iaa.Add((-50, 50))),  # Hue Adjustment\n",
        "    iaa.WithChannels(1, iaa.Multiply((0.5, 1.5))),  # Saturation Adjustment\n",
        "    iaa.WithChannels(2, iaa.LinearContrast((0.5, 1.5))),  # Value (Brightness) Adjustment\n",
        "    iaa.Sharpen(alpha=(0, 1.0), lightness=(0.75, 1.5)),  # Sharpness Adjustment\n",
        "    iaa.Cutout(nb_iterations=(0, 5), size=0.2),  # Cutout\n",
        "    iaa.Sometimes(0.5, iaa.CoarseDropout((0.0, 0.2), size_percent=(0.02, 0.1), per_channel=0.5)),  # Random Erasing\n",
        "])\n",
        "\n",
        "# Loop through each image and generate augmented versions\n",
        "for img_filename in image_files:\n",
        "    img_path = os.path.join(dataset_path, img_filename)\n",
        "    label_filename = os.path.splitext(img_filename)[0] + '.txt'\n",
        "    label_path = os.path.join(labels_path, label_filename)\n",
        "\n",
        "    # Load the image\n",
        "    img = Image.open(img_path)\n",
        "    img_array = np.array(img)\n",
        "\n",
        "    # Generate augmented images\n",
        "    images_aug = [seq.augment_image(img_array) for _ in range(3)]\n",
        "\n",
        "    # Save source image\n",
        "    source_img_filename = f\"{target_class}_source_{img_filename}\"\n",
        "    source_img_path = os.path.join(target_path, source_img_filename)\n",
        "    img.save(source_img_path)\n",
        "\n",
        "    # Save augmented images\n",
        "    for i, augmented_img in enumerate(images_aug):\n",
        "        augmented_filename = f\"{target_class}_{i}_augmented_{img_filename}\"\n",
        "        target_img_path = os.path.join(target_path, augmented_filename)\n",
        "        Image.fromarray(augmented_img).save(target_img_path)\n",
        "\n",
        "        # Move the corresponding annotation file to the target label folder\n",
        "        target_label_filename = f\"{target_class}_{i}_augmented_{label_filename}\"\n",
        "        target_label_path_file = os.path.join(target_label_path, target_label_filename)\n",
        "        shutil.copy(label_path, target_label_path_file)\n",
        "\n",
        "    # Copy source label to the target label folder\n",
        "    source_label_filename = f\"{target_class}_source_{label_filename}\"\n",
        "    target_source_label_path = os.path.join(target_label_path, source_label_filename)\n",
        "    shutil.copy(label_path, target_source_label_path)\n",
        "\n",
        "print(f\"Augmented images saved in: {target_path}\")\n",
        "print(f\"Augmented labels moved to: {target_label_path}\")\n"
      ],
      "metadata": {
        "colab": {
          "base_uri": "https://localhost:8080/"
        },
        "id": "uiTIrSjy9AXU",
        "outputId": "d1f52dea-5a15-415b-e3d1-e16d35983afc"
      },
      "execution_count": null,
      "outputs": [
        {
          "output_type": "stream",
          "name": "stdout",
          "text": [
            "Augmented images saved in: /content/drive/MyDrive/Data Pre-Processing/Augmented Dataset/Pothole/Images\n",
            "Augmented labels moved to: /content/drive/MyDrive/Data Pre-Processing/Augmented Dataset/Pothole/Labels\n"
          ]
        }
      ]
    },
    {
      "cell_type": "code",
      "source": [
        "import os\n",
        "\n",
        "def count_files_in_folder(folder_path):\n",
        "    # Check if the folder exists\n",
        "    if not os.path.exists(folder_path):\n",
        "        print(f\"The folder '{folder_path}' does not exist.\")\n",
        "        return\n",
        "\n",
        "    # Get the count of files in the folder\n",
        "    file_count = len([f for f in os.listdir(folder_path) if os.path.isfile(os.path.join(folder_path, f))])\n",
        "\n",
        "    # Print the count\n",
        "    print(f\"Number of files in '{folder_path}': {file_count}\")\n",
        "\n",
        "# Replace 'your_folder_path' with the actual path to your folder\n",
        "folder_path = \"/content/drive/MyDrive/Data Pre-Processing/Augmented Dataset/Pothole/Images\"\n",
        "folder_path1 = \"/content/drive/MyDrive/Data Pre-Processing/Augmented Dataset/Pothole/Labels\"\n",
        "count_files_in_folder(folder_path)\n",
        "count_files_in_folder(folder_path1)"
      ],
      "metadata": {
        "colab": {
          "base_uri": "https://localhost:8080/"
        },
        "id": "P7aOED4RCpSi",
        "outputId": "cd9903e8-8d29-47f5-b6fb-31963027532f"
      },
      "execution_count": null,
      "outputs": [
        {
          "output_type": "stream",
          "name": "stdout",
          "text": [
            "Number of files in '/content/drive/MyDrive/Data Pre-Processing/Augmented Dataset/Pothole/Images': 2324\n",
            "Number of files in '/content/drive/MyDrive/Data Pre-Processing/Augmented Dataset/Pothole/Labels': 2324\n"
          ]
        }
      ]
    },
    {
      "cell_type": "code",
      "source": [
        "import os\n",
        "import imgaug.augmenters as iaa\n",
        "import shutil\n",
        "from PIL import Image\n",
        "import numpy as np\n",
        "\n",
        "# Paths\n",
        "dataset_path = '/content/drive/MyDrive/Data Pre-Processing/Barricade Before Augmentation/Images_Barricade'\n",
        "labels_path = '/content/drive/MyDrive/Data Pre-Processing/Barricade Before Augmentation/Labels_Barricade'\n",
        "target_path = '/content/drive/MyDrive/Data Pre-Processing/Augmented Dataset/Barricade/Images'\n",
        "target_label_path = '/content/drive/MyDrive/Data Pre-Processing/Augmented Dataset/Barricade/Labels'\n",
        "target_class = 'Barricade'\n",
        "\n",
        "# Create target folders if they don't exist\n",
        "if not os.path.exists(target_path):\n",
        "    os.makedirs(target_path)\n",
        "\n",
        "if not os.path.exists(target_label_path):\n",
        "    os.makedirs(target_label_path)\n",
        "\n",
        "# List all image files in the dataset folder\n",
        "image_files = [f for f in os.listdir(dataset_path) if os.path.isfile(os.path.join(dataset_path, f))]\n",
        "\n",
        "# Augmentation sequence\n",
        "seq = iaa.Sequential([\n",
        "    iaa.Multiply((0.5, 1.5)),  # Brightness Jittering\n",
        "    iaa.LinearContrast((0.5, 1.5)),  # Contrast Adjustment\n",
        "    iaa.GaussianBlur(sigma=(0.0, 3.0)),  # Blur\n",
        "    iaa.AdditiveGaussianNoise(scale=(0.0, 0.05 * 255)),  # Noise Injection\n",
        "    iaa.WithChannels(0, iaa.Add((-50, 50))),  # Hue Adjustment\n",
        "    iaa.WithChannels(1, iaa.Multiply((0.5, 1.5))),  # Saturation Adjustment\n",
        "    iaa.WithChannels(2, iaa.LinearContrast((0.5, 1.5))),  # Value (Brightness) Adjustment\n",
        "    iaa.Sharpen(alpha=(0, 1.0), lightness=(0.75, 1.5)),  # Sharpness Adjustment\n",
        "    iaa.Cutout(nb_iterations=(0, 5), size=0.2),  # Cutout\n",
        "    iaa.Sometimes(0.5, iaa.CoarseDropout((0.0, 0.2), size_percent=(0.02, 0.1), per_channel=0.5)),  # Random Erasing\n",
        "])\n",
        "\n",
        "# Loop through each image and generate augmented versions\n",
        "for img_filename in image_files:\n",
        "    img_path = os.path.join(dataset_path, img_filename)\n",
        "    label_filename = os.path.splitext(img_filename)[0] + '.txt'\n",
        "    label_path = os.path.join(labels_path, label_filename)\n",
        "\n",
        "    # Load the image\n",
        "    img = Image.open(img_path)\n",
        "    img_array = np.array(img)\n",
        "\n",
        "    # Generate augmented images\n",
        "    images_aug = [seq.augment_image(img_array) for _ in range(4)]\n",
        "\n",
        "    # Save source image\n",
        "    source_img_filename = f\"{target_class}_source_{img_filename}\"\n",
        "    source_img_path = os.path.join(target_path, source_img_filename)\n",
        "    img.save(source_img_path)\n",
        "\n",
        "    # Save augmented images\n",
        "    for i, augmented_img in enumerate(images_aug):\n",
        "        augmented_filename = f\"{target_class}_{i}_augmented_{img_filename}\"\n",
        "        target_img_path = os.path.join(target_path, augmented_filename)\n",
        "        Image.fromarray(augmented_img).save(target_img_path)\n",
        "\n",
        "        # Move the corresponding annotation file to the target label folder\n",
        "        target_label_filename = f\"{target_class}_{i}_augmented_{label_filename}\"\n",
        "        target_label_path_file = os.path.join(target_label_path, target_label_filename)\n",
        "        shutil.copy(label_path, target_label_path_file)\n",
        "\n",
        "    # Copy source label to the target label folder\n",
        "    source_label_filename = f\"{target_class}_source_{label_filename}\"\n",
        "    target_source_label_path = os.path.join(target_label_path, source_label_filename)\n",
        "    shutil.copy(label_path, target_source_label_path)\n",
        "\n",
        "print(f\"Augmented images saved in: {target_path}\")\n",
        "print(f\"Augmented labels moved to: {target_label_path}\")\n"
      ],
      "metadata": {
        "colab": {
          "base_uri": "https://localhost:8080/"
        },
        "id": "WLkW41QE9Tch",
        "outputId": "d2d062b4-42ee-4ded-c9a7-8467f78b61dd"
      },
      "execution_count": null,
      "outputs": [
        {
          "output_type": "stream",
          "name": "stdout",
          "text": [
            "Augmented images saved in: /content/drive/MyDrive/Data Pre-Processing/Augmented Dataset/Barricade/Images\n",
            "Augmented labels moved to: /content/drive/MyDrive/Data Pre-Processing/Augmented Dataset/Barricade/Labels\n"
          ]
        }
      ]
    },
    {
      "cell_type": "code",
      "source": [
        "import os\n",
        "\n",
        "def count_files_in_folder(folder_path):\n",
        "    # Check if the folder exists\n",
        "    if not os.path.exists(folder_path):\n",
        "        print(f\"The folder '{folder_path}' does not exist.\")\n",
        "        return\n",
        "\n",
        "    # Get the count of files in the folder\n",
        "    file_count = len([f for f in os.listdir(folder_path) if os.path.isfile(os.path.join(folder_path, f))])\n",
        "\n",
        "    # Print the count\n",
        "    print(f\"Number of files in '{folder_path}': {file_count}\")\n",
        "\n",
        "# Replace 'your_folder_path' with the actual path to your folder\n",
        "folder_path = \"/content/drive/MyDrive/Data Pre-Processing/Augmented Dataset/Barricade/Images\"\n",
        "folder_path1 = \"/content/drive/MyDrive/Data Pre-Processing/Augmented Dataset/Barricade/Labels\"\n",
        "count_files_in_folder(folder_path)\n",
        "count_files_in_folder(folder_path1)"
      ],
      "metadata": {
        "colab": {
          "base_uri": "https://localhost:8080/"
        },
        "id": "2TUn_rNrDuBx",
        "outputId": "e5007e38-39a7-409b-9999-cabf6f465396"
      },
      "execution_count": null,
      "outputs": [
        {
          "output_type": "stream",
          "name": "stdout",
          "text": [
            "Number of files in '/content/drive/MyDrive/Data Pre-Processing/Augmented Dataset/Barricade/Images': 2605\n",
            "Number of files in '/content/drive/MyDrive/Data Pre-Processing/Augmented Dataset/Barricade/Labels': 2605\n"
          ]
        }
      ]
    },
    {
      "cell_type": "code",
      "source": [
        "import os\n",
        "import imgaug.augmenters as iaa\n",
        "import shutil\n",
        "from PIL import Image\n",
        "import numpy as np\n",
        "\n",
        "# Paths\n",
        "dataset_path = '/content/drive/MyDrive/Data Pre-Processing/Normal Road Before Augmentation/Images_Normal Road'\n",
        "labels_path = '/content/drive/MyDrive/Data Pre-Processing/Normal Road Before Augmentation/Labels_Normal Road'\n",
        "target_path = '/content/drive/MyDrive/Data Pre-Processing/Aug Normal Road/Images'\n",
        "target_label_path = '/content/drive/MyDrive/Data Pre-Processing/Aug Normal Road/Labels'\n",
        "target_class = 'Normal Road'\n",
        "\n",
        "# Create target folders if they don't exist\n",
        "if not os.path.exists(target_path):\n",
        "    os.makedirs(target_path)\n",
        "\n",
        "if not os.path.exists(target_label_path):\n",
        "    os.makedirs(target_label_path)\n",
        "\n",
        "# List all image files in the dataset folder\n",
        "image_files = [f for f in os.listdir(dataset_path) if os.path.isfile(os.path.join(dataset_path, f))]\n",
        "\n",
        "# Augmentation sequence\n",
        "seq = iaa.Sequential([\n",
        "    iaa.Multiply((0.5, 1.5)),  # Brightness Jittering\n",
        "    iaa.LinearContrast((0.5, 1.5)),  # Contrast Adjustment\n",
        "    iaa.GaussianBlur(sigma=(0.0, 3.0)),  # Blur\n",
        "    iaa.AdditiveGaussianNoise(scale=(0.0, 0.05 * 255)),  # Noise Injection\n",
        "    iaa.WithChannels(0, iaa.Add((-50, 50))),  # Hue Adjustment\n",
        "    iaa.WithChannels(1, iaa.Multiply((0.5, 1.5))),  # Saturation Adjustment\n",
        "    iaa.WithChannels(2, iaa.LinearContrast((0.5, 1.5))),  # Value (Brightness) Adjustment\n",
        "    iaa.Sharpen(alpha=(0, 1.0), lightness=(0.75, 1.5)),  # Sharpness Adjustment\n",
        "    iaa.Cutout(nb_iterations=(0, 5), size=0.2),  # Cutout\n",
        "    iaa.Sometimes(0.5, iaa.CoarseDropout((0.0, 0.2), size_percent=(0.02, 0.1), per_channel=0.5)),  # Random Erasing\n",
        "])\n",
        "\n",
        "# Loop through each image and generate augmented versions\n",
        "for img_filename in image_files:\n",
        "    img_path = os.path.join(dataset_path, img_filename)\n",
        "    label_filename = os.path.splitext(img_filename)[0] + '.txt'\n",
        "    label_path = os.path.join(labels_path, label_filename)\n",
        "\n",
        "    # Load the image\n",
        "    img = Image.open(img_path)\n",
        "    img_array = np.array(img)\n",
        "\n",
        "    # Generate augmented images\n",
        "    images_aug = [seq.augment_image(img_array) for _ in range(4)]\n",
        "\n",
        "    # Save source image\n",
        "    source_img_filename = f\"{target_class}_source_{img_filename}\"\n",
        "    source_img_path = os.path.join(target_path, source_img_filename)\n",
        "    img.save(source_img_path)\n",
        "\n",
        "    # Save augmented images\n",
        "    for i, augmented_img in enumerate(images_aug):\n",
        "        augmented_filename = f\"{target_class}_{i}_augmented_{img_filename}\"\n",
        "        target_img_path = os.path.join(target_path, augmented_filename)\n",
        "        Image.fromarray(augmented_img).save(target_img_path)\n",
        "\n",
        "        # Move the corresponding annotation file to the target label folder\n",
        "        target_label_filename = f\"{target_class}_{i}_augmented_{label_filename}\"\n",
        "        target_label_path_file = os.path.join(target_label_path, target_label_filename)\n",
        "        shutil.copy(label_path, target_label_path_file)\n",
        "\n",
        "    # Copy source label to the target label folder\n",
        "    source_label_filename = f\"{target_class}_source_{label_filename}\"\n",
        "    target_source_label_path = os.path.join(target_label_path, source_label_filename)\n",
        "    shutil.copy(label_path, target_source_label_path)\n",
        "\n",
        "print(f\"Augmented images saved in: {target_path}\")\n",
        "print(f\"Augmented labels moved to: {target_label_path}\")\n"
      ],
      "metadata": {
        "colab": {
          "base_uri": "https://localhost:8080/"
        },
        "id": "iH8JILpv9k8A",
        "outputId": "281c1423-6407-47c0-f41c-1755cd06c9b7"
      },
      "execution_count": null,
      "outputs": [
        {
          "output_type": "stream",
          "name": "stdout",
          "text": [
            "Augmented images saved in: /content/drive/MyDrive/Data Pre-Processing/Aug Normal Road/Images\n",
            "Augmented labels moved to: /content/drive/MyDrive/Data Pre-Processing/Aug Normal Road/Labels\n"
          ]
        }
      ]
    },
    {
      "cell_type": "code",
      "source": [
        "import os\n",
        "\n",
        "def count_files_in_folder(folder_path):\n",
        "    # Check if the folder exists\n",
        "    if not os.path.exists(folder_path):\n",
        "        print(f\"The folder '{folder_path}' does not exist.\")\n",
        "        return\n",
        "\n",
        "    # Get the count of files in the folder\n",
        "    file_count = len([f for f in os.listdir(folder_path) if os.path.isfile(os.path.join(folder_path, f))])\n",
        "\n",
        "    # Print the count\n",
        "    print(f\"Number of files in '{folder_path}': {file_count}\")\n",
        "\n",
        "# Replace 'your_folder_path' with the actual path to your folder\n",
        "folder_path = \"/content/drive/MyDrive/Data Pre-Processing/Aug Normal Road/Images\"\n",
        "folder_path1 = \"/content/drive/MyDrive/Data Pre-Processing/Aug Normal Road/Labels\"\n",
        "count_files_in_folder(folder_path)\n",
        "count_files_in_folder(folder_path1)"
      ],
      "metadata": {
        "colab": {
          "base_uri": "https://localhost:8080/"
        },
        "id": "4ZHHaZr6FVm3",
        "outputId": "ceca96b7-35d1-4b1a-8ae9-99bffda267db"
      },
      "execution_count": null,
      "outputs": [
        {
          "output_type": "stream",
          "name": "stdout",
          "text": [
            "Number of files in '/content/drive/MyDrive/Data Pre-Processing/Aug Normal Road/Images': 2265\n",
            "Number of files in '/content/drive/MyDrive/Data Pre-Processing/Aug Normal Road/Labels': 2265\n"
          ]
        }
      ]
    },
    {
      "cell_type": "code",
      "source": [
        "import os\n",
        "\n",
        "def count_files_in_folder(folder_path):\n",
        "    # Check if the folder exists\n",
        "    if not os.path.exists(folder_path):\n",
        "        print(f\"The folder '{folder_path}' does not exist.\")\n",
        "        return\n",
        "\n",
        "    # Get the count of files in the folder\n",
        "    file_count = len([f for f in os.listdir(folder_path) if os.path.isfile(os.path.join(folder_path, f))])\n",
        "\n",
        "    # Print the count\n",
        "    print(f\"Number of files in '{folder_path}': {file_count}\")\n",
        "\n",
        "# Replace 'your_folder_path' with the actual path to your folder\n",
        "folder_path = \"/content/drive/MyDrive/Data Pre-Processing/Augmented Dataset/Train/train/images\"\n",
        "folder_path1 = \"/content/drive/MyDrive/Data Pre-Processing/Augmented Dataset/Train/train/labels\"\n",
        "count_files_in_folder(folder_path)\n",
        "count_files_in_folder(folder_path1)"
      ],
      "metadata": {
        "colab": {
          "base_uri": "https://localhost:8080/"
        },
        "id": "1j3kVGrcrFCv",
        "outputId": "86ca2bbf-128d-48c6-e651-5d12267d11d0"
      },
      "execution_count": null,
      "outputs": [
        {
          "output_type": "stream",
          "name": "stdout",
          "text": [
            "Number of files in '/content/drive/MyDrive/Data Pre-Processing/Augmented Dataset/Train/train/images': 5523\n",
            "Number of files in '/content/drive/MyDrive/Data Pre-Processing/Augmented Dataset/Train/train/labels': 5523\n"
          ]
        }
      ]
    }
  ]
}